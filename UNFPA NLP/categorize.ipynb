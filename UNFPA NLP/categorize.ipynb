{
 "cells": [
  {
   "cell_type": "code",
   "execution_count": 1,
   "source": [
    "#importing statements, libraries we use\n",
    "import re\n",
    "import pandas as pd\n",
    "import string\n",
    "import sklearn\n",
    "from sklearn.feature_extraction.text import CountVectorizer\n",
    "from sklearn.feature_extraction import text\n",
    "import matplotlib as mpl\n",
    "import matplotlib.pyplot as plt\n",
    "from gensim import matutils, models\n",
    "import scipy.sparse\n",
    "import pickle"
   ],
   "outputs": [],
   "metadata": {}
  },
  {
   "cell_type": "code",
   "execution_count": 2,
   "source": [
    "path = '/mnt/c/Users/Zackw/Downloads/2019 MCP Cohort 2'\n",
    "data = pd.read_pickle(path + '/dtm_stop.pkl')\n",
    "tdm = data.transpose()\n",
    "tdm\n",
    "sparse_counts = scipy.sparse.csr_matrix(tdm)\n",
    "corpus = matutils.Sparse2Corpus(sparse_counts)\n",
    "cv = pickle.load(open(path + '/' + \"cv_stop.pkl\", \"rb\"))\n",
    "id2word = dict((v, k) for k, v in cv.vocabulary_.items())\n",
    "lda = models.LdaModel(corpus=corpus, id2word=id2word, num_topics=2, passes=10)\n",
    "lda.print_topics() \n"
   ],
   "outputs": [
    {
     "output_type": "execute_result",
     "data": {
      "text/plain": [
       "[(0,\n",
       "  '0.008*\"programme\" + 0.007*\"office\" + 0.007*\"new\" + 0.006*\"unfpa\" + 0.006*\"members\" + 0.006*\"leadership\" + 0.005*\"country\" + 0.005*\"change\" + 0.004*\"communication\" + 0.004*\"strategic\"'),\n",
       " (1,\n",
       "  '0.009*\"colleagues\" + 0.006*\"new\" + 0.005*\"course\" + 0.005*\"better\" + 0.005*\"unfpa\" + 0.005*\"communication\" + 0.005*\"time\" + 0.004*\"leadership\" + 0.004*\"office\" + 0.003*\"people\"')]"
      ]
     },
     "metadata": {},
     "execution_count": 2
    }
   ],
   "metadata": {}
  },
  {
   "cell_type": "code",
   "execution_count": null,
   "source": [],
   "outputs": [],
   "metadata": {}
  }
 ],
 "metadata": {
  "orig_nbformat": 4,
  "language_info": {
   "name": "python",
   "version": "3.6.9",
   "mimetype": "text/x-python",
   "codemirror_mode": {
    "name": "ipython",
    "version": 3
   },
   "pygments_lexer": "ipython3",
   "nbconvert_exporter": "python",
   "file_extension": ".py"
  },
  "kernelspec": {
   "name": "python3",
   "display_name": "Python 3.6.9 64-bit"
  },
  "interpreter": {
   "hash": "31f2aee4e71d21fbe5cf8b01ff0e069b9275f58929596ceb00d14d90e3e16cd6"
  }
 },
 "nbformat": 4,
 "nbformat_minor": 2
}