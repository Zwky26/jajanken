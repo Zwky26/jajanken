{
 "cells": [
  {
   "cell_type": "markdown",
   "metadata": {},
   "source": [
    "# CS 21850 HW 3 Zack Wang #"
   ]
  },
  {
   "cell_type": "code",
   "execution_count": 108,
   "metadata": {},
   "outputs": [],
   "source": [
    "import math"
   ]
  },
  {
   "cell_type": "markdown",
   "metadata": {},
   "source": [
    "## Overview of Gaussian Rule ##\n",
    "We basically want to make a function that estimates the value of the integral on the chunk using \n",
    "w(x) * f(p) for some point(s). \n",
    "\n",
    "To do so, we need to identify 1) the Gauss point(s) on the interval and 2) the corresponding coefficients $w_i$. \n",
    "\n",
    "By Theorem 13.3 in the textbook, this Gaussian quadrature will exactly equal any function of 2n-1. I.E if we use one point, we can accurately calculate any $f(x)w(x) \\in P_1$ and if we use two points we can accurately calculate any $f(x)w(x) \\in P_3$. We will use these assumptions when writing our G1 and G2 functions.\n",
    "\n",
    "### G1 Function: 1-Point Gauss Rule ###\n",
    "\n",
    "For G1, we need to generate a single Gauss point $p_1$ and $w_1$. To generate the weight function, we take $f(x) = 1$ and solve the equation $\\int_{a}^{b}w(x) \\,dx = w_1$. We then solve for the Gauss point by assuming f(x) is of the form $f(x) = x - gp$. We solve the equation $\\int_{a}^{b}w(x)(x-gp) \\,dx = w_1*gp$\n",
    "\n",
    "### G2 Function: 2-Point Gauss Rule ###\n",
    "\n",
    "For G2, we need to find two Gauss points and two weights $w_1$ and $w_2$. To find these values, we need four functions. To get the first two, we use the same method as in G1, where we set f = 1, f = x. Then, we exploit the fact that we are dealing with orthogonal polynomials, so (1, $p_2$) = 0 = (x, $p_2$) and thus we can solve for $p_0$ and $p_1$. \n",
    "\n",
    "With the two inner products, we are able to solve for the sum of points $p_0 + p_1$. Because we assume that the Gauss points are evenly spaced, of form $p_i = mu +- delta$, we solve for mu. This then lets us solve for the delta value, giving us all the information needed to calculate the Gauss points. "
   ]
  },
  {
   "cell_type": "code",
   "execution_count": 109,
   "metadata": {},
   "outputs": [],
   "source": [
    "#G1 1-point rule\n",
    "def computeExInt(a, b, p):\n",
    "    #given bounds and a power of x in the integral, will return val\n",
    "    #Example: to find int(x^5) from 0 to 1 do computeExInt(0, 1, 5)\n",
    "    return ((b ** (p + 1)) / (p + 1)) - (a ** (p + 1)) / (p + 1)\n",
    "\n",
    "def getWeight(a, b, p):\n",
    "    #returns weight_0, checked and seems to work\n",
    "    newE = p + 1\n",
    "    return ((b ** newE) - (a ** newE)) / newE\n",
    "\n",
    "def getPoint(a, b, p, w):\n",
    "    return  computeExInt(a, b, p + 1) / w\n",
    "\n",
    "def g1(a, b, foo, p):\n",
    "    #takes in bounds, spits out value\n",
    "    weight = getWeight(a, b, p)\n",
    "    point = getPoint(a, b, p, weight)\n",
    "    return weight * foo(point)"
   ]
  },
  {
   "cell_type": "code",
   "execution_count": 110,
   "metadata": {},
   "outputs": [
    {
     "data": {
      "text/plain": [
       "0.5"
      ]
     },
     "execution_count": 110,
     "metadata": {},
     "output_type": "execute_result"
    }
   ],
   "source": [
    "g1(0, 1, lambda x : x, 0)"
   ]
  },
  {
   "cell_type": "code",
   "execution_count": 111,
   "metadata": {},
   "outputs": [],
   "source": [
    "#G2 2-Point Rule\n",
    "def getPoints(a, b, p):\n",
    "    c = computeExInt(a, b, p + 1) + computeExInt(a, b, p + 2)\n",
    "    d = computeExInt(a, b, p) + computeExInt(a, b, p + 1)\n",
    "    e = computeExInt(a, b, p + 3) + computeExInt(a, b, p + 2)\n",
    "    mu = ((computeExInt(a, b, p + 2) - (e * (computeExInt(a, b, p) / d))) / (computeExInt(a, b, p + 1) - (c * computeExInt(a, b, p) / d)) ) / 2\n",
    "    b = ((2 * mu * c) - e) / d\n",
    "    mu2 = mu ** 2\n",
    "    delta = min(((2 * mu) - (((4 * mu2) - (4 * (mu2 - b)))** .5)) / 2, ((2 * mu) + (((4 * mu2) - (4 * (mu2 - b)))** .5)) / 2)\n",
    "    #s = (() + ()) * (p + 3) / (())\n",
    "    return mu - delta, mu + delta\n",
    "\n",
    "def getWeights(a, b, p):\n",
    "    #returns weight_0, checked and seems to work\n",
    "    p0, p1 = getPoints(a, b, p)\n",
    "    w1 = (computeExInt(a, b, p+1) - (p0 * computeExInt(a, b, p))) / (p1 - p0) \n",
    "    w0 = computeExInt(a, b, p) - w1 \n",
    "    return w0, w1\n",
    "\n",
    "def g2(a, b, foo, p):\n",
    "    w0, w1 = getWeights(a, b, p)\n",
    "    p0, p1 = getPoints(a, b, p)\n",
    "    return (w0 * foo(p0)) + (w1 * foo(p1))"
   ]
  },
  {
   "cell_type": "code",
   "execution_count": 112,
   "metadata": {},
   "outputs": [
    {
     "data": {
      "text/plain": [
       "0.4"
      ]
     },
     "execution_count": 112,
     "metadata": {},
     "output_type": "execute_result"
    }
   ],
   "source": [
    "g2(0, 1, lambda x: x, .5)"
   ]
  },
  {
   "cell_type": "code",
   "execution_count": 113,
   "metadata": {},
   "outputs": [],
   "source": [
    "def approximate(foo, a, b, chunks, p):\n",
    "    dist = b - a\n",
    "    stepsize = dist / chunks\n",
    "    points = list(range(chunks + 1))\n",
    "    points = list(map(lambda y: y * stepsize, points))\n",
    "    points = list(zip(points, points[1:]))\n",
    "    val = 0\n",
    "    for left, right in points:\n",
    "        val += g1(left, right, foo, p)\n",
    "    return val\n",
    " \n",
    "def approximate2(foo, a, b, chunks, p):\n",
    "    dist = b - a\n",
    "    stepsize = dist / chunks\n",
    "    points = list(range(chunks + 1))\n",
    "    points = list(map(lambda y: y * stepsize, points))\n",
    "    points = list(zip(points, points[1:]))\n",
    "    val = 0\n",
    "    for left, right in points:\n",
    "        val += g2(left, right, foo, p)\n",
    "    return val"
   ]
  },
  {
   "cell_type": "code",
   "execution_count": 114,
   "metadata": {},
   "outputs": [
    {
     "data": {
      "text/plain": [
       "12.5"
      ]
     },
     "execution_count": 114,
     "metadata": {},
     "output_type": "execute_result"
    }
   ],
   "source": [
    "approximate(lambda x: x, 0, 5, 1, 0)"
   ]
  },
  {
   "cell_type": "code",
   "execution_count": 115,
   "metadata": {},
   "outputs": [
    {
     "name": "stdout",
     "output_type": "stream",
     "text": [
      "CASE 0\n",
      "One Point Approximations\n",
      "1 Chunk: 0.25, Err = 0.0\n",
      "2 Chunk: 0.25, Err = 0.0\n",
      "8 Chunk: 0.25, Err = 0.0\n",
      "Exact: 0.25\n",
      "Two Point Approximations\n",
      "1 Chunk: 0.25, Err = 0.0\n",
      "2 Chunk: 0.25, Err = 0.0\n",
      "8 Chunk: 0.25, Err = 0.0\n",
      "Exact: 0.25\n"
     ]
    }
   ],
   "source": [
    "print(\"CASE 0\")\n",
    "print(\"One Point Approximations\")\n",
    "c0n1 = approximate(lambda x: x, 0, 1, 1, 2) \n",
    "c0n2 = approximate(lambda x: x, 0, 1, 2, 2) \n",
    "c0n8 = approximate(lambda x: x, 0, 1, 8, 2) \n",
    "c0ex = approximate(lambda x: x, 0, 1, 20, 2) \n",
    "print(\"1 Chunk: {}, Err = {}\".format(c0n1, c0n1 - c0ex))\n",
    "print(\"2 Chunk: {}, Err = {}\".format(c0n2, c0n2 - c0ex))\n",
    "print(\"8 Chunk: {}, Err = {}\".format(c0n8, c0n8 - c0ex))\n",
    "print(\"Exact: {}\".format(c0ex))\n",
    "\n",
    "print(\"Two Point Approximations\")\n",
    "c0n12 = approximate2(lambda x: x, 0, 1, 1, 2) \n",
    "c0n22 = approximate2(lambda x: x, 0, 1, 2, 2) \n",
    "c0n82 = approximate2(lambda x: x, 0, 1, 8, 2) \n",
    "c0ex2 = approximate2(lambda x: x, 0, 1, 20, 2) \n",
    "print(\"1 Chunk: {}, Err = {}\".format(c0n12, c0n12 - c0ex2))\n",
    "print(\"2 Chunk: {}, Err = {}\".format(c0n22, c0n22 - c0ex2))\n",
    "print(\"8 Chunk: {}, Err = {}\".format(c0n82, c0n82 - c0ex2))\n",
    "print(\"Exact: {}\".format(c0ex2))"
   ]
  },
  {
   "cell_type": "code",
   "execution_count": 116,
   "metadata": {},
   "outputs": [
    {
     "name": "stdout",
     "output_type": "stream",
     "text": [
      "CASE 1\n",
      "One Point Approximations\n",
      "1 Chunk: 0.07407407407407406, Err = -0.2112220647549084\n",
      "2 Chunk: 0.2398101383019598, Err = -0.045486000527022674\n",
      "8 Chunk: 0.28307448411503366, Err = -0.0022216547139488063\n",
      "Exact: 0.28529613882898247\n",
      "Two Point Approximations\n",
      "1 Chunk: 0.09638771043967392, Err = -0.18890919471818485\n",
      "2 Chunk: 0.24194983031834522, Err = -0.043347074839513555\n",
      "8 Chunk: 0.28309281856594515, Err = -0.002204086591913623\n",
      "Exact: 0.28529690515785877\n"
     ]
    }
   ],
   "source": [
    "print(\"CASE 1\")\n",
    "print(\"One Point Approximations\")\n",
    "c1n1 = approximate(lambda x: x ** 3, 0, 1, 1, -.5) \n",
    "c1n2 = approximate(lambda x: x ** 3, 0, 1, 2, -.5) \n",
    "c1n8 = approximate(lambda x: x ** 3, 0, 1, 8, -.5) \n",
    "c1ex = approximate(lambda x: x ** 3, 0, 1, 20, -.5) \n",
    "print(\"1 Chunk: {}, Err = {}\".format(c1n1, c1n1 - c1ex))\n",
    "print(\"2 Chunk: {}, Err = {}\".format(c1n2, c1n2 - c1ex))\n",
    "print(\"8 Chunk: {}, Err = {}\".format(c1n8, c1n8 - c1ex))\n",
    "print(\"Exact: {}\".format(c1ex))\n",
    "\n",
    "# 2-POINT APPROX\n",
    "print(\"Two Point Approximations\")\n",
    "c1n12 = approximate2(lambda x: x ** 3, 0, 1, 1, -.5) \n",
    "c1n22 = approximate2(lambda x: x ** 3, 0, 1, 2, -.5) \n",
    "c1n82 = approximate2(lambda x: x ** 3, 0, 1, 8, -.5) \n",
    "c1ex2 = approximate2(lambda x: x ** 3, 0, 1, 20, -.5) \n",
    "print(\"1 Chunk: {}, Err = {}\".format(c1n12, c1n12 - c1ex2))\n",
    "print(\"2 Chunk: {}, Err = {}\".format(c1n22, c1n22 - c1ex2))\n",
    "print(\"8 Chunk: {}, Err = {}\".format(c1n82, c1n82 - c1ex2))\n",
    "print(\"Exact: {}\".format(c1ex2))"
   ]
  },
  {
   "cell_type": "code",
   "execution_count": 117,
   "metadata": {},
   "outputs": [
    {
     "name": "stdout",
     "output_type": "stream",
     "text": [
      "CASE 2\n",
      "One Point Approximations\n",
      "1 Chunk: 1.1547005383792515, Err = 0.14648906863538413\n",
      "2 Chunk: 1.0797973851068847, Err = 0.0715859153630174\n",
      "8 Chunk: 1.0204311209245787, Err = 0.012219651180711333\n",
      "Exact: 1.0082114697438673\n",
      "Two Point Approximations\n",
      "1 Chunk: 1.144940018196995, Err = 0.13721831273427365\n",
      "2 Chunk: 1.0749023843012995, Err = 0.06718067883857803\n",
      "8 Chunk: 1.0192067207309603, Err = 0.011485015268238863\n",
      "Exact: 1.0077217054627214\n"
     ]
    }
   ],
   "source": [
    "print(\"CASE 2\")\n",
    "print(\"One Point Approximations\")\n",
    "c2n1 = approximate(lambda x: x ** .5, 0, 1, 1, -.5) \n",
    "c2n2 = approximate(lambda x: x ** .5, 0, 1, 2, -.5) \n",
    "c2n8 = approximate(lambda x: x ** .5, 0, 1, 8, -.5) \n",
    "c2ex = approximate(lambda x: x ** .5, 0, 1, 20, -.5) \n",
    "print(\"1 Chunk: {}, Err = {}\".format(c2n1, c2n1 - c2ex))\n",
    "print(\"2 Chunk: {}, Err = {}\".format(c2n2, c2n2 - c2ex))\n",
    "print(\"8 Chunk: {}, Err = {}\".format(c2n8, c2n8 - c2ex))\n",
    "print(\"Exact: {}\".format(c2ex))\n",
    "\n",
    "# 2-POINT APPROX\n",
    "print(\"Two Point Approximations\")\n",
    "c2n12 = approximate2(lambda x: x ** .5, 0, 1, 1, -.5) \n",
    "c2n22 = approximate2(lambda x: x ** .5, 0, 1, 2, -.5) \n",
    "c2n82 = approximate2(lambda x: x ** .5, 0, 1, 8, -.5) \n",
    "c2ex2 = approximate2(lambda x: x ** .5, 0, 1, 20, -.5) \n",
    "print(\"1 Chunk: {}, Err = {}\".format(c2n12, c2n12 - c2ex2))\n",
    "print(\"2 Chunk: {}, Err = {}\".format(c2n22, c2n22 - c2ex2))\n",
    "print(\"8 Chunk: {}, Err = {}\".format(c2n82, c2n82 - c2ex2))\n",
    "print(\"Exact: {}\".format(c2ex2))"
   ]
  },
  {
   "cell_type": "code",
   "execution_count": 118,
   "metadata": {},
   "outputs": [
    {
     "name": "stdout",
     "output_type": "stream",
     "text": [
      "CASE 3\n",
      "One Point Approximations\n",
      "1 Chunk: 0.9053339520384431, Err = -0.18558171577230698\n",
      "2 Chunk: 1.047274265397741, Err = -0.04364140241300918\n",
      "8 Chunk: 1.0887088520757846, Err = -0.002206815734965506\n",
      "Exact: 1.0909156678107501\n",
      "Two Point Approximations\n",
      "1 Chunk: 0.925616870227603, Err = -0.16530987809331033\n",
      "2 Chunk: 1.0510350200511878, Err = -0.039891728269725535\n",
      "8 Chunk: 1.0888209010966547, Err = -0.00210584722425855\n",
      "Exact: 1.0909267483209133\n"
     ]
    }
   ],
   "source": [
    "print(\"CASE 3\")\n",
    "print(\"One Point Approximations\")\n",
    "c3n1 = approximate(lambda x: (1 - math.sin(x)) ** 2, 0, 1, 1, -.5) \n",
    "c3n2 = approximate(lambda x: (1 - math.sin(x)) ** 2, 0, 1, 2, -.5) \n",
    "c3n8 = approximate(lambda x: (1 - math.sin(x)) ** 2, 0, 1, 8, -.5) \n",
    "c3ex = approximate(lambda x: (1 - math.sin(x)) ** 2, 0, 1, 20, -.5) \n",
    "print(\"1 Chunk: {}, Err = {}\".format(c3n1, c3n1 - c3ex))\n",
    "print(\"2 Chunk: {}, Err = {}\".format(c3n2, c3n2 - c3ex))\n",
    "print(\"8 Chunk: {}, Err = {}\".format(c3n8, c3n8 - c3ex))\n",
    "print(\"Exact: {}\".format(c3ex))\n",
    "\n",
    "# 2-POINT APPROX\n",
    "print(\"Two Point Approximations\")\n",
    "c3n12 = approximate2(lambda x: (1 - math.sin(x)) ** 2, 0, 1, 1, -.5) \n",
    "c3n22 = approximate2(lambda x: (1 - math.sin(x)) ** 2, 0, 1, 2, -.5) \n",
    "c3n82 = approximate2(lambda x: (1 - math.sin(x)) ** 2, 0, 1, 8, -.5) \n",
    "c3ex2 = approximate2(lambda x: (1 - math.sin(x)) ** 2, 0, 1, 20, -.5) \n",
    "print(\"1 Chunk: {}, Err = {}\".format(c3n12, c3n12 - c3ex2))\n",
    "print(\"2 Chunk: {}, Err = {}\".format(c3n22, c3n22 - c3ex2))\n",
    "print(\"8 Chunk: {}, Err = {}\".format(c3n82, c3n82 - c3ex2))\n",
    "print(\"Exact: {}\".format(c3ex2))"
   ]
  },
  {
   "cell_type": "code",
   "execution_count": 129,
   "metadata": {},
   "outputs": [
    {
     "name": "stdout",
     "output_type": "stream",
     "text": [
      "CASE 4\n",
      "One Point Approximations\n",
      "1 Chunk: 2.8349880805797323, Err = -0.005335915147206105\n",
      "2 Chunk: 2.839022499410468, Err = -0.001301496316470363\n",
      "8 Chunk: 2.84025640085947, Err = -6.759486746821253e-05\n",
      "Exact: 2.8403239957269384\n",
      "Two Point Approximations\n",
      "1 Chunk: 2.835550409847861, Err = -0.004773905723790328\n",
      "2 Chunk: 2.839122923549124, Err = -0.0012013920225273367\n",
      "8 Chunk: 2.840259559185011, Err = -6.475638664049654e-05\n",
      "Exact: 2.8403243155716513\n"
     ]
    }
   ],
   "source": [
    "print(\"CASE 4\")\n",
    "print(\"One Point Approximations\")\n",
    "c4n1 = approximate(lambda x: (x ** .5) / ((math.sin(x/2)) ** .5), 0, 1, 1, -.5) \n",
    "c4n2 = approximate(lambda x: (x ** .5) / ((math.sin(x/2)) ** .5), 0, 1, 2, -.5) \n",
    "c4n8 = approximate(lambda x: (x ** .5) / ((math.sin(x/2)) ** .5), 0, 1, 8, -.5) \n",
    "c4ex = approximate(lambda x: (x ** .5) / ((math.sin(x/2)) ** .5), 0, 1, 20, -.5) \n",
    "print(\"1 Chunk: {}, Err = {}\".format(c4n1, c4n1 - c4ex))\n",
    "print(\"2 Chunk: {}, Err = {}\".format(c4n2, c4n2 - c4ex))\n",
    "print(\"8 Chunk: {}, Err = {}\".format(c4n8, c4n8 - c4ex))\n",
    "print(\"Exact: {}\".format(c4ex))\n",
    "\n",
    "# 2-POINT APPROX\n",
    "print(\"Two Point Approximations\")\n",
    "c4n12 = approximate2(lambda x: (x ** .5) / ((math.sin(x/2)) ** .5), 0, 1, 1, -.5) \n",
    "c4n22 = approximate2(lambda x: (x ** .5) / ((math.sin(x/2)) ** .5), 0, 1, 2, -.5) \n",
    "c4n82 = approximate2(lambda x: (x ** .5) / ((math.sin(x/2)) ** .5), 0, 1, 8, -.5) \n",
    "c4ex2 = approximate2(lambda x: (x ** .5) / ((math.sin(x/2)) ** .5), 0, 1, 20, -.5) \n",
    "print(\"1 Chunk: {}, Err = {}\".format(c4n12, c4n12 - c4ex2))\n",
    "print(\"2 Chunk: {}, Err = {}\".format(c4n22, c4n22 - c4ex2))\n",
    "print(\"8 Chunk: {}, Err = {}\".format(c4n82, c4n82 - c4ex2))\n",
    "print(\"Exact: {}\".format(c4ex2))"
   ]
  },
  {
   "cell_type": "markdown",
   "metadata": {},
   "source": [
    "In summary, we have made a robust and adaptive program that, given any range and number of chunks, can estimate the particular integral. We see that the two point approximation universally does as well or better than the one point, with the increase in chunks improving the accuracy of the estimation."
   ]
  },
  {
   "cell_type": "markdown",
   "metadata": {},
   "source": []
  }
 ],
 "metadata": {
  "interpreter": {
   "hash": "31f2aee4e71d21fbe5cf8b01ff0e069b9275f58929596ceb00d14d90e3e16cd6"
  },
  "kernelspec": {
   "display_name": "Python 3.7.5 64-bit",
   "name": "python3"
  },
  "language_info": {
   "codemirror_mode": {
    "name": "ipython",
    "version": 3
   },
   "file_extension": ".py",
   "mimetype": "text/x-python",
   "name": "python",
   "nbconvert_exporter": "python",
   "pygments_lexer": "ipython3",
   "version": "3.7.5"
  },
  "orig_nbformat": 4
 },
 "nbformat": 4,
 "nbformat_minor": 2
}
