{
 "cells": [
  {
   "cell_type": "markdown",
   "metadata": {},
   "source": [
    "RegEx in Python Demonstration Notebook\n",
    "\n",
    "RegEx's are useful for simplifying text comprehension. We use the re module, specifically re.match, re.search, and re.findall.\n",
    "\n",
    "re.match checks if the start of a string matches the regex.\n",
    "\n",
    "re.search finds the first occurance. It is much more useful.\n",
    "\n",
    "re.findall is likely the most useful. Will find every occurance matching regex and return a list"
   ]
  },
  {
   "cell_type": "code",
   "execution_count": 1,
   "metadata": {},
   "outputs": [
    {
     "data": {
      "text/plain": [
       "('123',)"
      ]
     },
     "execution_count": 1,
     "metadata": {},
     "output_type": "execute_result"
    }
   ],
   "source": [
    "import re\n",
    "#pattern = re.compile(r'(\\d{3})-\\d{3}-\\d{4}|(\\d{3}).\\d{3}.\\d{4}')\n",
    "pattern = re.compile(r'(\\d{3})-\\d{3}-\\d{4}')\n",
    "mo = re.search(pattern, \"849.390.3949 123-345-5678 123-444-5678 1234565768\")\n",
    "mo.groups()"
   ]
  },
  {
   "cell_type": "code",
   "execution_count": 58,
   "metadata": {},
   "outputs": [],
   "source": [
    "def getPhoneNums(text, mode):\n",
    "    #extract all phone numbers from a blob of text\n",
    "    #alternatively, extract all phone numbers from txt or doc file\n",
    "    if mode:\n",
    "        return\n",
    "    else:\n",
    "        pattern = re.compile(r'\\d{3}-\\d{3}-\\d{4}|\\d{3}.\\d{3}.\\d{4}|\\(\\d{3}\\)\\s\\d{3}-\\d{4}')\n",
    "        return re.findall(pattern, text)\n",
    "    \n",
    "def getAreaCodes(text):\n",
    "    #extract all phone numbers from a blob of text\n",
    "    #alternatively, extract all phone numbers from txt or doc file\n",
    "    pattern1 = re.compile(r'(\\d{3})-\\d{3}-\\d{4}')\n",
    "    pattern2 = re.compile(r'(\\d{3}).\\d{3}.\\d{4}')\n",
    "    pattern3 = re.compile(r'\\((\\d{3})\\).\\d{3}-\\d{4}')\n",
    "    mo = re.search(pattern1, text)\n",
    "    return mo.groups()"
   ]
  },
  {
   "cell_type": "code",
   "execution_count": 61,
   "metadata": {},
   "outputs": [
    {
     "data": {
      "text/plain": [
       "['849.390.3949', '123-345-5678', '123-444-5678', '(345) 495-4050']"
      ]
     },
     "execution_count": 61,
     "metadata": {},
     "output_type": "execute_result"
    }
   ],
   "source": [
    "getPhoneNums(\"849.390.3949 123-345-5678 123-444-56781234565768 asdfklnghokaneg dsoprtj (345) 495-4050asdf bf\", False)"
   ]
  },
  {
   "cell_type": "code",
   "execution_count": 60,
   "metadata": {},
   "outputs": [
    {
     "data": {
      "text/plain": [
       "('123',)"
      ]
     },
     "execution_count": 60,
     "metadata": {},
     "output_type": "execute_result"
    }
   ],
   "source": [
    "getAreaCodes(\"849.390.3949 123-345-5678 123-444-5678 1234565768\")"
   ]
  },
  {
   "cell_type": "code",
   "execution_count": null,
   "metadata": {},
   "outputs": [],
   "source": []
  }
 ],
 "metadata": {
  "interpreter": {
   "hash": "31f2aee4e71d21fbe5cf8b01ff0e069b9275f58929596ceb00d14d90e3e16cd6"
  },
  "kernelspec": {
   "display_name": "Python 3.7.5 64-bit",
   "language": "python",
   "name": "python3"
  },
  "language_info": {
   "codemirror_mode": {
    "name": "ipython",
    "version": 3
   },
   "file_extension": ".py",
   "mimetype": "text/x-python",
   "name": "python",
   "nbconvert_exporter": "python",
   "pygments_lexer": "ipython3",
   "version": "3.7.5"
  },
  "orig_nbformat": 4
 },
 "nbformat": 4,
 "nbformat_minor": 2
}
